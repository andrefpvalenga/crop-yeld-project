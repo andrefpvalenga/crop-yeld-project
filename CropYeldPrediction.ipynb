{
 "cells": [
  {
   "cell_type": "markdown",
   "metadata": {},
   "source": [
    "# 1. Importing libraries and data"
   ]
  },
  {
   "cell_type": "code",
   "execution_count": 78,
   "metadata": {},
   "outputs": [],
   "source": [
    "# Importing libraries\n",
    "\n",
    "# Data Wrangling and Viz\n",
    "import pandas as pd\n",
    "import matplotlib.pyplot as plt\n",
    "import seaborn as sns\n",
    "from sklearn.preprocessing import scale"
   ]
  },
  {
   "cell_type": "code",
   "execution_count": null,
   "metadata": {},
   "outputs": [],
   "source": [
    "# Creating a Pipeline fot import Data\n",
    "def importdata(filename):\n",
    "    path = \"C:\\\\Users\\\\Usuario\\\\Documents\\\\Ciência de Dados\\\\Datasets\\\\\"\n",
    "    return pd.read_csv(path + filename)"
   ]
  },
  {
   "cell_type": "code",
   "execution_count": 110,
   "metadata": {},
   "outputs": [],
   "source": [
    "# Importing data\n",
    "df = importdata('yield_df.csv')"
   ]
  },
  {
   "cell_type": "markdown",
   "metadata": {},
   "source": [
    "# 2. Checking data and EDA"
   ]
  },
  {
   "cell_type": "markdown",
   "metadata": {},
   "source": [
    "## 2.1. Checking data"
   ]
  },
  {
   "cell_type": "code",
   "execution_count": 111,
   "metadata": {},
   "outputs": [
    {
     "name": "stdout",
     "output_type": "stream",
     "text": [
      "------------------------------ Shape ------------------------------\n",
      "(28242, 8)\n",
      "------------------------------ Columns ------------------------------\n",
      "Index(['Unnamed: 0', 'Area', 'Item', 'Year', 'hg/ha_yield',\n",
      "       'average_rain_fall_mm_per_year', 'pesticides_tonnes', 'avg_temp'],\n",
      "      dtype='object')\n",
      "------------------------------ Short description ------------------------------\n",
      "         Unnamed: 0          Year    hg/ha_yield  \\\n",
      "count  28242.000000  28242.000000   28242.000000   \n",
      "mean   14120.500000   2001.544296   77053.332094   \n",
      "std     8152.907488      7.051905   84956.612897   \n",
      "min        0.000000   1990.000000      50.000000   \n",
      "25%     7060.250000   1995.000000   19919.250000   \n",
      "50%    14120.500000   2001.000000   38295.000000   \n",
      "75%    21180.750000   2008.000000  104676.750000   \n",
      "max    28241.000000   2013.000000  501412.000000   \n",
      "\n",
      "       average_rain_fall_mm_per_year  pesticides_tonnes      avg_temp  \n",
      "count                    28242.00000       28242.000000  28242.000000  \n",
      "mean                      1149.05598       37076.909344     20.542627  \n",
      "std                        709.81215       59958.784665      6.312051  \n",
      "min                         51.00000           0.040000      1.300000  \n",
      "25%                        593.00000        1702.000000     16.702500  \n",
      "50%                       1083.00000       17529.440000     21.510000  \n",
      "75%                       1668.00000       48687.880000     26.000000  \n",
      "max                       3240.00000      367778.000000     30.650000  \n"
     ]
    }
   ],
   "source": [
    "# Checking Dataset Format and columns\n",
    "print(30*'-', 'Shape', 30*'-')\n",
    "print(df.shape)\n",
    "print(30*'-', 'Columns', 30*'-')\n",
    "print(df.columns)\n",
    "print(30*'-', 'Short description', 30*'-')\n",
    "print(df.describe())"
   ]
  },
  {
   "cell_type": "code",
   "execution_count": 114,
   "metadata": {},
   "outputs": [],
   "source": [
    "df.columns = ['Index', 'Area', 'Item', 'Year', 'hg/ha_yield',\n",
    "       'average_rain_fall_mm_per_year', 'pesticides_tonnes', 'avg_temp']"
   ]
  },
  {
   "cell_type": "code",
   "execution_count": 115,
   "metadata": {},
   "outputs": [
    {
     "name": "stdout",
     "output_type": "stream",
     "text": [
      "<class 'pandas.core.frame.DataFrame'>\n",
      "RangeIndex: 28242 entries, 0 to 28241\n",
      "Data columns (total 8 columns):\n",
      " #   Column                         Non-Null Count  Dtype  \n",
      "---  ------                         --------------  -----  \n",
      " 0   Index                          28242 non-null  int64  \n",
      " 1   Area                           28242 non-null  object \n",
      " 2   Item                           28242 non-null  object \n",
      " 3   Year                           28242 non-null  int64  \n",
      " 4   hg/ha_yield                    28242 non-null  int64  \n",
      " 5   average_rain_fall_mm_per_year  28242 non-null  float64\n",
      " 6   pesticides_tonnes              28242 non-null  float64\n",
      " 7   avg_temp                       28242 non-null  float64\n",
      "dtypes: float64(3), int64(3), object(2)\n",
      "memory usage: 1.7+ MB\n"
     ]
    }
   ],
   "source": [
    "df.info()"
   ]
  },
  {
   "cell_type": "code",
   "execution_count": 116,
   "metadata": {},
   "outputs": [],
   "source": [
    "df = df.set_index('Index')"
   ]
  },
  {
   "cell_type": "code",
   "execution_count": 117,
   "metadata": {},
   "outputs": [
    {
     "data": {
      "text/html": [
       "<div>\n",
       "<style scoped>\n",
       "    .dataframe tbody tr th:only-of-type {\n",
       "        vertical-align: middle;\n",
       "    }\n",
       "\n",
       "    .dataframe tbody tr th {\n",
       "        vertical-align: top;\n",
       "    }\n",
       "\n",
       "    .dataframe thead th {\n",
       "        text-align: right;\n",
       "    }\n",
       "</style>\n",
       "<table border=\"1\" class=\"dataframe\">\n",
       "  <thead>\n",
       "    <tr style=\"text-align: right;\">\n",
       "      <th></th>\n",
       "      <th>Area</th>\n",
       "      <th>Item</th>\n",
       "      <th>Year</th>\n",
       "      <th>hg/ha_yield</th>\n",
       "      <th>average_rain_fall_mm_per_year</th>\n",
       "      <th>pesticides_tonnes</th>\n",
       "      <th>avg_temp</th>\n",
       "    </tr>\n",
       "    <tr>\n",
       "      <th>Index</th>\n",
       "      <th></th>\n",
       "      <th></th>\n",
       "      <th></th>\n",
       "      <th></th>\n",
       "      <th></th>\n",
       "      <th></th>\n",
       "      <th></th>\n",
       "    </tr>\n",
       "  </thead>\n",
       "  <tbody>\n",
       "    <tr>\n",
       "      <th>0</th>\n",
       "      <td>Albania</td>\n",
       "      <td>Maize</td>\n",
       "      <td>1990</td>\n",
       "      <td>36613</td>\n",
       "      <td>1485.0</td>\n",
       "      <td>121.0</td>\n",
       "      <td>16.37</td>\n",
       "    </tr>\n",
       "    <tr>\n",
       "      <th>1</th>\n",
       "      <td>Albania</td>\n",
       "      <td>Potatoes</td>\n",
       "      <td>1990</td>\n",
       "      <td>66667</td>\n",
       "      <td>1485.0</td>\n",
       "      <td>121.0</td>\n",
       "      <td>16.37</td>\n",
       "    </tr>\n",
       "    <tr>\n",
       "      <th>2</th>\n",
       "      <td>Albania</td>\n",
       "      <td>Rice, paddy</td>\n",
       "      <td>1990</td>\n",
       "      <td>23333</td>\n",
       "      <td>1485.0</td>\n",
       "      <td>121.0</td>\n",
       "      <td>16.37</td>\n",
       "    </tr>\n",
       "    <tr>\n",
       "      <th>3</th>\n",
       "      <td>Albania</td>\n",
       "      <td>Sorghum</td>\n",
       "      <td>1990</td>\n",
       "      <td>12500</td>\n",
       "      <td>1485.0</td>\n",
       "      <td>121.0</td>\n",
       "      <td>16.37</td>\n",
       "    </tr>\n",
       "    <tr>\n",
       "      <th>4</th>\n",
       "      <td>Albania</td>\n",
       "      <td>Soybeans</td>\n",
       "      <td>1990</td>\n",
       "      <td>7000</td>\n",
       "      <td>1485.0</td>\n",
       "      <td>121.0</td>\n",
       "      <td>16.37</td>\n",
       "    </tr>\n",
       "  </tbody>\n",
       "</table>\n",
       "</div>"
      ],
      "text/plain": [
       "          Area         Item  Year  hg/ha_yield  average_rain_fall_mm_per_year  \\\n",
       "Index                                                                           \n",
       "0      Albania        Maize  1990        36613                         1485.0   \n",
       "1      Albania     Potatoes  1990        66667                         1485.0   \n",
       "2      Albania  Rice, paddy  1990        23333                         1485.0   \n",
       "3      Albania      Sorghum  1990        12500                         1485.0   \n",
       "4      Albania     Soybeans  1990         7000                         1485.0   \n",
       "\n",
       "       pesticides_tonnes  avg_temp  \n",
       "Index                               \n",
       "0                  121.0     16.37  \n",
       "1                  121.0     16.37  \n",
       "2                  121.0     16.37  \n",
       "3                  121.0     16.37  \n",
       "4                  121.0     16.37  "
      ]
     },
     "execution_count": 117,
     "metadata": {},
     "output_type": "execute_result"
    }
   ],
   "source": [
    "# Visualizing df\n",
    "df.head()"
   ]
  },
  {
   "cell_type": "code",
   "execution_count": 106,
   "metadata": {},
   "outputs": [
    {
     "data": {
      "text/plain": [
       "Area                             0\n",
       "Item                             0\n",
       "Year                             0\n",
       "hg/ha_yield                      0\n",
       "average_rain_fall_mm_per_year    0\n",
       "pesticides_tonnes                0\n",
       "avg_temp                         0\n",
       "dtype: int64"
      ]
     },
     "execution_count": 106,
     "metadata": {},
     "output_type": "execute_result"
    }
   ],
   "source": [
    "# Checking nulls\n",
    "df.isnull().sum()"
   ]
  },
  {
   "cell_type": "code",
   "execution_count": 118,
   "metadata": {},
   "outputs": [
    {
     "data": {
      "text/plain": [
       "np.int64(2310)"
      ]
     },
     "execution_count": 118,
     "metadata": {},
     "output_type": "execute_result"
    }
   ],
   "source": [
    "# Checking duplicates\n",
    "df.duplicated().sum()"
   ]
  },
  {
   "cell_type": "code",
   "execution_count": 107,
   "metadata": {},
   "outputs": [
    {
     "data": {
      "text/plain": [
       "(25932, 7)"
      ]
     },
     "execution_count": 107,
     "metadata": {},
     "output_type": "execute_result"
    }
   ],
   "source": [
    "# Removing duplicates\n",
    "df.drop_duplicates(inplace=True)\n",
    "df.shape"
   ]
  },
  {
   "cell_type": "code",
   "execution_count": 108,
   "metadata": {},
   "outputs": [],
   "source": [
    "# Converting col 'Year' to datetime\n",
    "df['Year'] = pd.to_datetime(df.Year, format='%Y')"
   ]
  },
  {
   "cell_type": "code",
   "execution_count": 109,
   "metadata": {},
   "outputs": [
    {
     "name": "stdout",
     "output_type": "stream",
     "text": [
      "Item: 10, Area: 101\n"
     ]
    }
   ],
   "source": [
    "# Checking how many differente attributes has on 'Item' and 'Area'\n",
    "item = df['Item'].nunique()\n",
    "area = df['Area'].nunique()\n",
    "\n",
    "print(f'Item: {item}, Area: {area}')"
   ]
  },
  {
   "cell_type": "markdown",
   "metadata": {},
   "source": [
    "- Original shape: (28242, 8)\n",
    "- Original columns: ['Unnamed: 0', 'Area', 'Item', 'Year', 'hg/ha_yield',\n",
    "       'average_rain_fall_mm_per_year', 'pesticides_tonnes', 'avg_temp']\n",
    "    - Need to set 'Unnamed: 0' as index\n",
    "- The dataframe has 2310 duplicated data, so I've used dorp_duplicates() to remove them\n",
    "- I've transformed column 'Year' to datetime to distinguish from numerical columns\n",
    "- The columns 'Item' and 'Area' have respectively 10 and 101 unique values, this will be useful when I will need to use Label or One Hot Encoding."
   ]
  },
  {
   "cell_type": "markdown",
   "metadata": {},
   "source": [
    "## 2.2. EDA"
   ]
  },
  {
   "cell_type": "code",
   "execution_count": 35,
   "metadata": {},
   "outputs": [
    {
     "data": {
      "text/html": [
       "<div>\n",
       "<style scoped>\n",
       "    .dataframe tbody tr th:only-of-type {\n",
       "        vertical-align: middle;\n",
       "    }\n",
       "\n",
       "    .dataframe tbody tr th {\n",
       "        vertical-align: top;\n",
       "    }\n",
       "\n",
       "    .dataframe thead th {\n",
       "        text-align: right;\n",
       "    }\n",
       "</style>\n",
       "<table border=\"1\" class=\"dataframe\">\n",
       "  <thead>\n",
       "    <tr style=\"text-align: right;\">\n",
       "      <th></th>\n",
       "      <th>Year</th>\n",
       "      <th>hg/ha_yield</th>\n",
       "      <th>average_rain_fall_mm_per_year</th>\n",
       "      <th>pesticides_tonnes</th>\n",
       "      <th>avg_temp</th>\n",
       "    </tr>\n",
       "  </thead>\n",
       "  <tbody>\n",
       "    <tr>\n",
       "      <th>count</th>\n",
       "      <td>25932.000000</td>\n",
       "      <td>25932.000000</td>\n",
       "      <td>25932.000000</td>\n",
       "      <td>25932.000000</td>\n",
       "      <td>25932.000000</td>\n",
       "    </tr>\n",
       "    <tr>\n",
       "      <th>mean</th>\n",
       "      <td>2001.556455</td>\n",
       "      <td>76978.132925</td>\n",
       "      <td>1146.836688</td>\n",
       "      <td>34782.573241</td>\n",
       "      <td>20.422251</td>\n",
       "    </tr>\n",
       "    <tr>\n",
       "      <th>std</th>\n",
       "      <td>7.055924</td>\n",
       "      <td>84647.605552</td>\n",
       "      <td>717.391098</td>\n",
       "      <td>57228.568244</td>\n",
       "      <td>6.439402</td>\n",
       "    </tr>\n",
       "    <tr>\n",
       "      <th>min</th>\n",
       "      <td>1990.000000</td>\n",
       "      <td>50.000000</td>\n",
       "      <td>51.000000</td>\n",
       "      <td>0.040000</td>\n",
       "      <td>1.300000</td>\n",
       "    </tr>\n",
       "    <tr>\n",
       "      <th>25%</th>\n",
       "      <td>1995.000000</td>\n",
       "      <td>19996.000000</td>\n",
       "      <td>593.000000</td>\n",
       "      <td>1597.000000</td>\n",
       "      <td>16.580000</td>\n",
       "    </tr>\n",
       "    <tr>\n",
       "      <th>50%</th>\n",
       "      <td>2001.000000</td>\n",
       "      <td>39530.000000</td>\n",
       "      <td>1083.000000</td>\n",
       "      <td>15373.000000</td>\n",
       "      <td>21.420000</td>\n",
       "    </tr>\n",
       "    <tr>\n",
       "      <th>75%</th>\n",
       "      <td>2008.000000</td>\n",
       "      <td>104168.000000</td>\n",
       "      <td>1668.000000</td>\n",
       "      <td>45620.000000</td>\n",
       "      <td>26.060000</td>\n",
       "    </tr>\n",
       "    <tr>\n",
       "      <th>max</th>\n",
       "      <td>2013.000000</td>\n",
       "      <td>501412.000000</td>\n",
       "      <td>3240.000000</td>\n",
       "      <td>367778.000000</td>\n",
       "      <td>30.650000</td>\n",
       "    </tr>\n",
       "  </tbody>\n",
       "</table>\n",
       "</div>"
      ],
      "text/plain": [
       "               Year    hg/ha_yield  average_rain_fall_mm_per_year  \\\n",
       "count  25932.000000   25932.000000                   25932.000000   \n",
       "mean    2001.556455   76978.132925                    1146.836688   \n",
       "std        7.055924   84647.605552                     717.391098   \n",
       "min     1990.000000      50.000000                      51.000000   \n",
       "25%     1995.000000   19996.000000                     593.000000   \n",
       "50%     2001.000000   39530.000000                    1083.000000   \n",
       "75%     2008.000000  104168.000000                    1668.000000   \n",
       "max     2013.000000  501412.000000                    3240.000000   \n",
       "\n",
       "       pesticides_tonnes      avg_temp  \n",
       "count       25932.000000  25932.000000  \n",
       "mean        34782.573241     20.422251  \n",
       "std         57228.568244      6.439402  \n",
       "min             0.040000      1.300000  \n",
       "25%          1597.000000     16.580000  \n",
       "50%         15373.000000     21.420000  \n",
       "75%         45620.000000     26.060000  \n",
       "max        367778.000000     30.650000  "
      ]
     },
     "execution_count": 35,
     "metadata": {},
     "output_type": "execute_result"
    }
   ],
   "source": [
    "# Describing data\n",
    "df.describe()"
   ]
  },
  {
   "cell_type": "code",
   "execution_count": 56,
   "metadata": {},
   "outputs": [
    {
     "data": {
      "image/png": "[encoded data removed]",
      "text/plain": [
       "<Figure size 640x480 with 1 Axes>"
      ]
     },
     "metadata": {},
     "output_type": "display_data"
    }
   ],
   "source": [
    "# Checking Top 10 countries by production mean\n",
    "countries = df.groupby('Area')['hg/ha_yield'].mean()\n",
    "countries = countries.sort_values(ascending=False)\n",
    "top10_countries = countries.head(10)\n",
    "top10_countries.plot(kind='bar')\n",
    "plt.title('Top 10 countries by productio mean')\n",
    "plt.xlabel('Country')\n",
    "plt.ylabel('Production')\n",
    "plt.show()"
   ]
  },
  {
   "cell_type": "code",
   "execution_count": 99,
   "metadata": {},
   "outputs": [
    {
     "data": {
      "image/png": "[encoded data removed]",
      "text/plain": [
       "<Figure size 640x480 with 1 Axes>"
      ]
     },
     "metadata": {},
     "output_type": "display_data"
    }
   ],
   "source": [
    "# Searching for outliers\n",
    "df_numerical = df.drop(columns=['Area', 'Item','Year'])\n",
    "df_numerical.apply(scale).plot.box() \n",
    "plt.xticks(rotation=30)\n",
    "plt.show()"
   ]
  },
  {
   "cell_type": "code",
   "execution_count": null,
   "metadata": {},
   "outputs": [
    {
     "data": {
      "image/png": "[encoded data removed]",
      "text/plain": [
       "<Figure size 1200x1200 with 2 Axes>"
      ]
     },
     "metadata": {},
     "output_type": "display_data"
    }
   ],
   "source": [
    "# Creating a heatmap to see the correlation\n",
    "corr_matrix = df.drop(columns=['Area', 'Item','Year']).corr()\n",
    "plt.figure(figsize=(12,12))\n",
    "sns.heatmap(corr_matrix, annot=True, cmap='coolwarm')\n",
    "plt.title('Matrix')\n",
    "plt.show()"
   ]
  },
  {
   "cell_type": "markdown",
   "metadata": {},
   "source": []
  },
  {
   "cell_type": "code",
   "execution_count": null,
   "metadata": {},
   "outputs": [],
   "source": []
  },
  {
   "cell_type": "code",
   "execution_count": null,
   "metadata": {},
   "outputs": [],
   "source": []
  }
 ],
 "metadata": {
  "kernelspec": {
   "display_name": "Python 3",
   "language": "python",
   "name": "python3"
  },
  "language_info": {
   "codemirror_mode": {
    "name": "ipython",
    "version": 3
   },
   "file_extension": ".py",
   "mimetype": "text/x-python",
   "name": "python",
   "nbconvert_exporter": "python",
   "pygments_lexer": "ipython3",
   "version": "3.12.3"
  }
 },
 "nbformat": 4,
 "nbformat_minor": 2
}
